{
 "cells": [
  {
   "cell_type": "markdown",
   "metadata": {},
   "source": [
    "# Part A: \n",
    "Get the program earthquake,py to run with your MongoDB. Don't forget to start the MongoDB server before running.\n",
    "\n",
    "Note that the earthquake_json program collects data and puts it in the database. In practice, you would write a separate program that would then be able to explore or analyze that data. But in order to keep the exercise short, we are going to add another section to the same program to access the data.\n",
    "\n",
    "\n",
    "Submit your updated program and its output in a single text file."
   ]
  },
  {
   "cell_type": "code",
   "execution_count": 1,
   "metadata": {},
   "outputs": [
    {
     "name": "stdout",
     "output_type": "stream",
     "text": [
      "Collected data from USGS Significant Earthquakes, Past Month\n",
      "Connected successfully!!!\n",
      "Added 16 to earthquakes collection in usgs database\n"
     ]
    }
   ],
   "source": [
    "import urllib.request\n",
    "import json\n",
    "import pymongo\n",
    "\n",
    "\n",
    "# get the bbc rss feed of news stories and connect to it\n",
    "earthquake_url = \"http://earthquake.usgs.gov/earthquakes/feed/v1.0/summary/significant_month.geojson\"\n",
    "\n",
    "try:\n",
    "\tresponse = urllib.request.urlopen(earthquake_url)\n",
    "except urllib.error.URLError as e:\n",
    "    if hasattr(e, 'reason'):\n",
    "        print('We failed to reach a server.')\n",
    "        print('Reason: ', e.reason)\n",
    "    elif hasattr(e, 'code'):\n",
    "        print('The server couldn\\'t fulfill the request.')\n",
    "        print('Error code: ', e.code)\n",
    "else:\n",
    "\t# the url request was successful - convert the response to a string\n",
    "\tjson_string = response.read().decode('utf-8')\n",
    "\n",
    "\t# the json package loads() converts the string to python dictionaries and lists\n",
    "\teq_json = json.loads(json_string)\n",
    "\t\n",
    "\t# from the json dictionary we get the title to print\n",
    "\ttitle = eq_json['metadata']['title']\n",
    "\tprint('Collected data from', title)\n",
    "\t#  and we get the list of earthquakes\n",
    "\tquakelist = eq_json['features']\n",
    "\n",
    "\t# Connection to Mongo DB\n",
    "\ttry:\n",
    "\t    client=pymongo.MongoClient('localhost', 27017)\n",
    "\t    print (\"Connected successfully!!!\")\n",
    "\texcept pymongo.errors.ConnectionFailure as e:\n",
    "\t   print (\"Could not connect to MongoDB: %s\" % e )\n",
    "\telse:\n",
    "\n",
    "\t\t# use database named usgs or create it if not there already\n",
    "\t\teqdb = client.usgs\n",
    "\t\t# create collection named earthquakes or create it if not there already\n",
    "\t\tquakecoll = eqdb.earthquakes\n",
    "\t\t# add all the earthquakes to the list\n",
    "\t\tquakecoll.insert_many(quakelist)\n",
    "\t\tprint(\"Added\", len(quakelist), \"to earthquakes collection in usgs database\")\n",
    "\t\t# close the database connection\n",
    "\t\tclient.close()\n",
    "\n"
   ]
  },
  {
   "cell_type": "markdown",
   "metadata": {},
   "source": [
    "# Part B: \n",
    "Add to the program to get back the earthquakes from the database and print the 'place' and 'time' for each quake. That is, you should add code to the program that after it adds the earthquakes to Mongo, it should get them back out with find() and print those two items for each earthquake.\n",
    "\n"
   ]
  },
  {
   "cell_type": "markdown",
   "metadata": {},
   "source": [
    "# Solution"
   ]
  },
  {
   "cell_type": "code",
   "execution_count": 8,
   "metadata": {
    "scrolled": true
   },
   "outputs": [
    {
     "name": "stdout",
     "output_type": "stream",
     "text": [
      "Collected data from USGS Significant Earthquakes, Past Month\n",
      "Connected successfully!!!\n",
      "Added 16 to earthquakes collection in usgs database\n",
      "Place:  41km NW of Platanos, Greece         Time:  1574839422.552\n",
      "Place:  6km ESE of Blagaj, Bosnia and Herzegovina         Time:  1574759966.08\n",
      "Place:  16km WSW of Mamurras, Albania         Time:  1574736852.594\n",
      "Place:  85km ESE of Adak, Alaska         Time:  1574556842.199\n",
      "Place:  31km ESE of Chaloem Phra Kiat, Thailand         Time:  1574293844.205\n",
      "Place:  267km NW of Ozernovskiy, Russia         Time:  1574238367.542\n",
      "Place:  111km SW of Puerto Madero, Mexico         Time:  1574224025.921\n",
      "Place:  2km N of Kadingilan, Philippines         Time:  1574083330.217\n",
      "Place:  138km E of Bitung, Indonesia         Time:  1573748260.457\n",
      "Place:  26km W of Pepeekeo, Hawaii         Time:  1573490152.79\n",
      "Place:  167km SSW of Ndoi Island, Fiji         Time:  1573209884.876\n",
      "Place:  57km NE of Hashtrud, Iran         Time:  1573166825.428\n",
      "Place:  6km W of Ventura, CA         Time:  1573131939.4\n",
      "Place:  East of the South Sandwich Islands         Time:  1572987121.296\n",
      "Place:  136km W of Neiafu, Tonga         Time:  1572907412.28\n",
      "Place:  30km SW of Illapel, Chile         Time:  1572904405.32\n",
      "Place:  41km NW of Platanos, Greece         Time:  1574839422.552\n",
      "Place:  6km ESE of Blagaj, Bosnia and Herzegovina         Time:  1574759966.08\n",
      "Place:  16km WSW of Mamurras, Albania         Time:  1574736852.594\n",
      "Place:  85km ESE of Adak, Alaska         Time:  1574556842.199\n",
      "Place:  31km ESE of Chaloem Phra Kiat, Thailand         Time:  1574293844.205\n",
      "Place:  267km NW of Ozernovskiy, Russia         Time:  1574238367.542\n",
      "Place:  111km SW of Puerto Madero, Mexico         Time:  1574224025.921\n",
      "Place:  2km N of Kadingilan, Philippines         Time:  1574083330.217\n",
      "Place:  138km E of Bitung, Indonesia         Time:  1573748260.457\n",
      "Place:  26km W of Pepeekeo, Hawaii         Time:  1573490152.79\n",
      "Place:  167km SSW of Ndoi Island, Fiji         Time:  1573209884.876\n",
      "Place:  57km NE of Hashtrud, Iran         Time:  1573166825.428\n",
      "Place:  6km W of Ventura, CA         Time:  1573131939.4\n",
      "Place:  East of the South Sandwich Islands         Time:  1572987121.296\n",
      "Place:  136km W of Neiafu, Tonga         Time:  1572907412.28\n",
      "Place:  30km SW of Illapel, Chile         Time:  1572904405.32\n"
     ]
    }
   ],
   "source": [
    "''' \n",
    "\tThis program accesses the USGS earthquake data feed. This URL is for\n",
    "       significant quakes in the last 30 days.\n",
    "\tIt then saves the earthquakes to a database named usgs and a collection called earthquakes.\n",
    "\tThe mongod server must be running for this program to work!\n",
    "'''\n",
    "\n",
    "import urllib.request\n",
    "import json\n",
    "import pymongo\n",
    "\n",
    "\n",
    "# get the bbc rss feed of news stories and connect to it\n",
    "earthquake_url = \"http://earthquake.usgs.gov/earthquakes/feed/v1.0/summary/significant_month.geojson\"\n",
    "\n",
    "try:\n",
    "\tresponse = urllib.request.urlopen(earthquake_url)\n",
    "except urllib.error.URLError as e:\n",
    "    if hasattr(e, 'reason'):\n",
    "        print('We failed to reach a server.')\n",
    "        print('Reason: ', e.reason)\n",
    "    elif hasattr(e, 'code'):\n",
    "        print('The server couldn\\'t fulfill the request.')\n",
    "        print('Error code: ', e.code)\n",
    "else:\n",
    "\t# the url request was successful - convert the response to a string\n",
    "\tjson_string = response.read().decode('utf-8')\n",
    "\n",
    "\t# the json package loads() converts the string to python dictionaries and lists\n",
    "\teq_json = json.loads(json_string)\n",
    "\t\n",
    "\t# from the json dictionary we get the title to print\n",
    "\ttitle = eq_json['metadata']['title']\n",
    "\tprint('Collected data from', title)\n",
    "\t#  and we get the list of earthquakes\n",
    "\tquakelist = eq_json['features']\n",
    "\n",
    "\t# Connection to Mongo DB\n",
    "\ttry:\n",
    "\t    client=pymongo.MongoClient('localhost', 27017)\n",
    "\t    print (\"Connected successfully!!!\")\n",
    "\texcept pymongo.errors.ConnectionFailure as e:\n",
    "\t   print (\"Could not connect to MongoDB: %s\" % e )\n",
    "\telse:\n",
    "\n",
    "\t\t# use database named usgs or create it if not there already\n",
    "\t\teqdb = client.usgs\n",
    "\t\t# create collection named earthquakes or create it if not there already\n",
    "\t\tquakecoll = eqdb.earthquakes\n",
    "\t\t# add all the earthquakes to the list\n",
    "\t\tquakecoll.insert_many(quakelist)\n",
    "\t\tprint(\"Added\", len(quakelist), \"to earthquakes collection in usgs database\")\n",
    "\t\t\n",
    "\t# Grab back the collection of earthquakes from MongoDB\n",
    "\t\tquake_docs = quakecoll.find()\n",
    "\t\t# Loop through and print out place and time of the earthquakes\n",
    "\t\tfor doc in quake_docs:\n",
    "\t\t\tplace = doc[\"properties\"][\"place\"]\n",
    "\t\t\t# grab unix timestamp in milliseconds\n",
    "\t\t\tunix_time_mil = doc[\"properties\"][\"time\"]\n",
    "\t\t\t# convert to unix in seconds\n",
    "\t\t\tunix_time = unix_time_mil / 1000\n",
    "\t\t\t# use datatime to convert to human readible time format, goes down to milliseconds\n",
    "\t\t\t# print the place and time, with a label to show the time is in UTC\n",
    "\t\t\tprint('Place: ',place,'        Time: ',unix_time)\n",
    "# close the database connection\n",
    "\t\tclient.close()\n",
    "\n"
   ]
  },
  {
   "cell_type": "code",
   "execution_count": null,
   "metadata": {},
   "outputs": [],
   "source": []
  }
 ],
 "metadata": {
  "kernelspec": {
   "display_name": "Python 3",
   "language": "python",
   "name": "python3"
  },
  "language_info": {
   "codemirror_mode": {
    "name": "ipython",
    "version": 3
   },
   "file_extension": ".py",
   "mimetype": "text/x-python",
   "name": "python",
   "nbconvert_exporter": "python",
   "pygments_lexer": "ipython3",
   "version": "3.7.3"
  }
 },
 "nbformat": 4,
 "nbformat_minor": 2
}
